{
 "cells": [
  {
   "cell_type": "markdown",
   "metadata": {},
   "source": [
    "# Loading, displaying, and plotting structured metadata stored under the NHGRI project on the Canine Data Commons"
   ]
  },
  {
   "cell_type": "markdown",
   "metadata": {},
   "source": [
    "### 1. Introduction to the commons\n",
    "The Canine Data Commons supports the management, analysis and sharing of genomics data for the canine research community and aims to accelerate opportunities for discovery and development for the treatment and prevention of canine cancer. "
   ]
  },
  {
   "cell_type": "markdown",
   "metadata": {},
   "source": [
    "### 2. Install dependencies and import python libraries"
   ]
  },
  {
   "cell_type": "code",
   "execution_count": 11,
   "metadata": {},
   "outputs": [],
   "source": [
    "# Uncomment the lines to install libraries if needed.\n",
    "# !pip install --force --upgrade gen3 --ignore-installed certifi\n",
    "# !pip install numpy\n",
    "# !pip install matplotlib\n",
    "# !pip install pandas\n",
    "# !pip install seaborn"
   ]
  },
  {
   "cell_type": "code",
   "execution_count": 16,
   "metadata": {},
   "outputs": [
    {
     "name": "stdout",
     "output_type": "stream",
     "text": [
      "Requirement already satisfied: gen3 in /Library/Frameworks/Python.framework/Versions/3.8/lib/python3.8/site-packages (2.4.0)\n",
      "Requirement already satisfied: requests in /Library/Frameworks/Python.framework/Versions/3.8/lib/python3.8/site-packages (from gen3) (2.24.0)\n",
      "Requirement already satisfied: pandas in /Library/Frameworks/Python.framework/Versions/3.8/lib/python3.8/site-packages (from gen3) (1.0.5)\n",
      "Requirement already satisfied: indexclient>=1.6.2 in /Library/Frameworks/Python.framework/Versions/3.8/lib/python3.8/site-packages (from gen3) (2.1.0)\n",
      "Requirement already satisfied: aiohttp in /Library/Frameworks/Python.framework/Versions/3.8/lib/python3.8/site-packages (from gen3) (3.6.2)\n",
      "Requirement already satisfied: backoff in /Library/Frameworks/Python.framework/Versions/3.8/lib/python3.8/site-packages (from gen3) (1.10.0)\n",
      "Requirement already satisfied: click in /Library/Frameworks/Python.framework/Versions/3.8/lib/python3.8/site-packages (from gen3) (7.1.2)\n",
      "Requirement already satisfied: idna<3,>=2.5 in /Library/Frameworks/Python.framework/Versions/3.8/lib/python3.8/site-packages (from requests->gen3) (2.10)\n",
      "Requirement already satisfied: chardet<4,>=3.0.2 in /Library/Frameworks/Python.framework/Versions/3.8/lib/python3.8/site-packages (from requests->gen3) (3.0.4)\n",
      "Requirement already satisfied: urllib3!=1.25.0,!=1.25.1,<1.26,>=1.21.1 in /Library/Frameworks/Python.framework/Versions/3.8/lib/python3.8/site-packages (from requests->gen3) (1.25.9)\n",
      "Requirement already satisfied: certifi>=2017.4.17 in /Library/Frameworks/Python.framework/Versions/3.8/lib/python3.8/site-packages (from requests->gen3) (2020.6.20)\n",
      "Requirement already satisfied: pytz>=2017.2 in /Library/Frameworks/Python.framework/Versions/3.8/lib/python3.8/site-packages (from pandas->gen3) (2020.1)\n",
      "Requirement already satisfied: numpy>=1.13.3 in /Library/Frameworks/Python.framework/Versions/3.8/lib/python3.8/site-packages (from pandas->gen3) (1.19.1)\n",
      "Requirement already satisfied: python-dateutil>=2.6.1 in /Library/Frameworks/Python.framework/Versions/3.8/lib/python3.8/site-packages (from pandas->gen3) (2.8.1)\n",
      "Requirement already satisfied: attrs>=17.3.0 in /Library/Frameworks/Python.framework/Versions/3.8/lib/python3.8/site-packages (from aiohttp->gen3) (19.3.0)\n",
      "Requirement already satisfied: multidict<5.0,>=4.5 in /Library/Frameworks/Python.framework/Versions/3.8/lib/python3.8/site-packages (from aiohttp->gen3) (4.7.6)\n",
      "Requirement already satisfied: yarl<2.0,>=1.0 in /Library/Frameworks/Python.framework/Versions/3.8/lib/python3.8/site-packages (from aiohttp->gen3) (1.4.2)\n",
      "Requirement already satisfied: async-timeout<4.0,>=3.0 in /Library/Frameworks/Python.framework/Versions/3.8/lib/python3.8/site-packages (from aiohttp->gen3) (3.0.1)\n",
      "Requirement already satisfied: six>=1.5 in /Library/Frameworks/Python.framework/Versions/3.8/lib/python3.8/site-packages (from python-dateutil>=2.6.1->pandas->gen3) (1.15.0)\n",
      "\u001b[33mWARNING: You are using pip version 20.2.3; however, version 20.2.4 is available.\n",
      "You should consider upgrading via the '/Library/Frameworks/Python.framework/Versions/3.8/bin/python3.8 -m pip install --upgrade pip' command.\u001b[0m\n"
     ]
    }
   ],
   "source": [
    "# Import libraries:\n",
    "import pandas as pd\n",
    "import numpy as np\n",
    "import matplotlib.pyplot as plt\n",
    "import matplotlib as mpl \n",
    "import os\n",
    "import seaborn as sns                 \n",
    "import re\n",
    "from pandas import DataFrame\n",
    "import warnings\n",
    "warnings.filterwarnings(\"ignore\")\n",
    "!pip install gen3"
   ]
  },
  {
   "cell_type": "markdown",
   "metadata": {},
   "source": [
    "### 3. Start interacting with the data commons by authentication using the SDK\n",
    "The Gen3 PSDK is a Python librabry containing classes and functions for sending common requests to the Gen APIs. The SDK is open source and the full documentation about the SDK can be found [here](https://github.com/uc-cdis/gen3sdk-python)."
   ]
  },
  {
   "cell_type": "code",
   "execution_count": 8,
   "metadata": {},
   "outputs": [],
   "source": [
    "# Import Gen SDK tools\n",
    "import gen3\n",
    "from gen3.auth import Gen3Auth\n",
    "from gen3.submission import Gen3Submission\n",
    "from gen3.index import Gen3Index"
   ]
  },
  {
   "cell_type": "code",
   "execution_count": 20,
   "metadata": {},
   "outputs": [],
   "source": [
    "# Define the Gen3 API (URL of the Gen3 commons)\n",
    "endpoint = \"https://caninedc.org/\"\n",
    "\n",
    "# Download the credentials JSON under https://caninedc.org/identity and call the path to the JSON file.\n",
    "creds = \"/user/path/canine_creds.json\"\n",
    "\n",
    "# Authentication using the class \"Gen3Auth\", which generates access tokens.\n",
    "auth = Gen3Auth(endpoint, creds)\n",
    "sub = Gen3Submission(endpoint, auth)\n",
    "\n",
    "home_directory = os.getcwd() # replace with a path if needed."
   ]
  },
  {
   "cell_type": "markdown",
   "metadata": {},
   "source": [
    "### 4. Download structured metadata from the dataset \"NHGRI\" using the SDK"
   ]
  },
  {
   "cell_type": "code",
   "execution_count": 21,
   "metadata": {},
   "outputs": [],
   "source": [
    "# First, we need to know which program and project we want to download the structured data from.\n",
    "# Programs and projects of interest can be found on commons.url/submission, or, in this notebook https://caninedc.org/submission.\n",
    "# In this notebook, we select program \"Canine\" and project \"NHGRI\"\n",
    "program = \"Canine\"\n",
    "project = \"NHGRI\""
   ]
  },
  {
   "cell_type": "code",
   "execution_count": 22,
   "metadata": {},
   "outputs": [
    {
     "name": "stdout",
     "output_type": "stream",
     "text": [
      "\n",
      "Output written to file: /Users/xeniaritter/Documents/CDIS_Tasks/Goals20-21/my_notebooks/subject.tsv\n",
      "\n",
      "Output written to file: /Users/xeniaritter/Documents/CDIS_Tasks/Goals20-21/my_notebooks/sample.tsv\n"
     ]
    }
   ],
   "source": [
    "# Now we can search for structured data that is stored under nodes in the NHGRI project.\n",
    "# All nodes in the NHGRI project can be found on the graph model on https://caninedc.org/Canine-NHGRI.\n",
    "# For this notebook, we want to take a look at the structured data that is stored under the nodes \"subject\" and \"sample\".\n",
    "\n",
    "# Export the structured data that is stored under the two nodes using the SDK function \"export_node\":\n",
    "# Syntax: subject_data = sub.export_node(program, project, node_type, fileformat, filename)\n",
    "subject_data = sub.export_node(program, project, \"subject\", \"tsv\", home_directory + \"/subject.tsv\")\n",
    "sample_data = sub.export_node(program, project, \"sample\", \"tsv\", home_directory + \"/sample.tsv\")"
   ]
  },
  {
   "cell_type": "markdown",
   "metadata": {},
   "source": [
    "### 5. Load NHGRI Dataset to Pandas, show dataframe, group, and plot"
   ]
  },
  {
   "cell_type": "code",
   "execution_count": 23,
   "metadata": {},
   "outputs": [
    {
     "data": {
      "text/html": [
       "<div>\n",
       "<style scoped>\n",
       "    .dataframe tbody tr th:only-of-type {\n",
       "        vertical-align: middle;\n",
       "    }\n",
       "\n",
       "    .dataframe tbody tr th {\n",
       "        vertical-align: top;\n",
       "    }\n",
       "\n",
       "    .dataframe thead th {\n",
       "        text-align: right;\n",
       "    }\n",
       "</style>\n",
       "<table border=\"1\" class=\"dataframe\">\n",
       "  <thead>\n",
       "    <tr style=\"text-align: right;\">\n",
       "      <th></th>\n",
       "      <th>type</th>\n",
       "      <th>id</th>\n",
       "      <th>project_id</th>\n",
       "      <th>submitter_id</th>\n",
       "      <th>breed</th>\n",
       "      <th>days_to_lost_to_followup</th>\n",
       "      <th>disease_type</th>\n",
       "      <th>index_date</th>\n",
       "      <th>lost_to_followup</th>\n",
       "      <th>primary_site</th>\n",
       "      <th>species</th>\n",
       "      <th>tissue_source_site_code</th>\n",
       "      <th>studies.id</th>\n",
       "      <th>studies.submitter_id</th>\n",
       "    </tr>\n",
       "  </thead>\n",
       "  <tbody>\n",
       "    <tr>\n",
       "      <th>0</th>\n",
       "      <td>subject</td>\n",
       "      <td>05f90a4e-5fbd-11e9-8647-d663bd873d93</td>\n",
       "      <td>Canine-NHGRI</td>\n",
       "      <td>1a608300-5fc1-11e9-8647-d663bd873d93</td>\n",
       "      <td>Norwich Terrier</td>\n",
       "      <td>NaN</td>\n",
       "      <td>healthy</td>\n",
       "      <td>NaN</td>\n",
       "      <td>NaN</td>\n",
       "      <td>whole blood</td>\n",
       "      <td>Canis lupus familiaris</td>\n",
       "      <td>whole blood</td>\n",
       "      <td>4a175584-5fbb-11e9-8647-d663bd873d93</td>\n",
       "      <td>GSE90441</td>\n",
       "    </tr>\n",
       "    <tr>\n",
       "      <th>1</th>\n",
       "      <td>subject</td>\n",
       "      <td>05f9102a-5fbd-11e9-8647-d663bd873d93</td>\n",
       "      <td>Canine-NHGRI</td>\n",
       "      <td>1a60844a-5fc1-11e9-8647-d663bd873d93</td>\n",
       "      <td>Old English Sheepdog</td>\n",
       "      <td>NaN</td>\n",
       "      <td>healthy</td>\n",
       "      <td>NaN</td>\n",
       "      <td>NaN</td>\n",
       "      <td>whole blood</td>\n",
       "      <td>Canis lupus familiaris</td>\n",
       "      <td>whole blood</td>\n",
       "      <td>4a175584-5fbb-11e9-8647-d663bd873d93</td>\n",
       "      <td>GSE90441</td>\n",
       "    </tr>\n",
       "    <tr>\n",
       "      <th>2</th>\n",
       "      <td>subject</td>\n",
       "      <td>05f911b0-5fbd-11e9-8647-d663bd873d93</td>\n",
       "      <td>Canine-NHGRI</td>\n",
       "      <td>1a608580-5fc1-11e9-8647-d663bd873d93</td>\n",
       "      <td>Old English Sheepdog</td>\n",
       "      <td>NaN</td>\n",
       "      <td>healthy</td>\n",
       "      <td>NaN</td>\n",
       "      <td>NaN</td>\n",
       "      <td>whole blood</td>\n",
       "      <td>Canis lupus familiaris</td>\n",
       "      <td>whole blood</td>\n",
       "      <td>4a175584-5fbb-11e9-8647-d663bd873d93</td>\n",
       "      <td>GSE90441</td>\n",
       "    </tr>\n",
       "    <tr>\n",
       "      <th>3</th>\n",
       "      <td>subject</td>\n",
       "      <td>05f912fa-5fbd-11e9-8647-d663bd873d93</td>\n",
       "      <td>Canine-NHGRI</td>\n",
       "      <td>1a6086b6-5fc1-11e9-8647-d663bd873d93</td>\n",
       "      <td>Old English Sheepdog</td>\n",
       "      <td>NaN</td>\n",
       "      <td>healthy</td>\n",
       "      <td>NaN</td>\n",
       "      <td>NaN</td>\n",
       "      <td>whole blood</td>\n",
       "      <td>Canis lupus familiaris</td>\n",
       "      <td>whole blood</td>\n",
       "      <td>4a175584-5fbb-11e9-8647-d663bd873d93</td>\n",
       "      <td>GSE90441</td>\n",
       "    </tr>\n",
       "    <tr>\n",
       "      <th>4</th>\n",
       "      <td>subject</td>\n",
       "      <td>05f91426-5fbd-11e9-8647-d663bd873d93</td>\n",
       "      <td>Canine-NHGRI</td>\n",
       "      <td>1a6087f6-5fc1-11e9-8647-d663bd873d93</td>\n",
       "      <td>Old English Sheepdog</td>\n",
       "      <td>NaN</td>\n",
       "      <td>healthy</td>\n",
       "      <td>NaN</td>\n",
       "      <td>NaN</td>\n",
       "      <td>whole blood</td>\n",
       "      <td>Canis lupus familiaris</td>\n",
       "      <td>whole blood</td>\n",
       "      <td>4a175584-5fbb-11e9-8647-d663bd873d93</td>\n",
       "      <td>GSE90441</td>\n",
       "    </tr>\n",
       "  </tbody>\n",
       "</table>\n",
       "</div>"
      ],
      "text/plain": [
       "      type                                    id    project_id  \\\n",
       "0  subject  05f90a4e-5fbd-11e9-8647-d663bd873d93  Canine-NHGRI   \n",
       "1  subject  05f9102a-5fbd-11e9-8647-d663bd873d93  Canine-NHGRI   \n",
       "2  subject  05f911b0-5fbd-11e9-8647-d663bd873d93  Canine-NHGRI   \n",
       "3  subject  05f912fa-5fbd-11e9-8647-d663bd873d93  Canine-NHGRI   \n",
       "4  subject  05f91426-5fbd-11e9-8647-d663bd873d93  Canine-NHGRI   \n",
       "\n",
       "                           submitter_id                 breed  \\\n",
       "0  1a608300-5fc1-11e9-8647-d663bd873d93       Norwich Terrier   \n",
       "1  1a60844a-5fc1-11e9-8647-d663bd873d93  Old English Sheepdog   \n",
       "2  1a608580-5fc1-11e9-8647-d663bd873d93  Old English Sheepdog   \n",
       "3  1a6086b6-5fc1-11e9-8647-d663bd873d93  Old English Sheepdog   \n",
       "4  1a6087f6-5fc1-11e9-8647-d663bd873d93  Old English Sheepdog   \n",
       "\n",
       "   days_to_lost_to_followup disease_type  index_date  lost_to_followup  \\\n",
       "0                       NaN      healthy         NaN               NaN   \n",
       "1                       NaN      healthy         NaN               NaN   \n",
       "2                       NaN      healthy         NaN               NaN   \n",
       "3                       NaN      healthy         NaN               NaN   \n",
       "4                       NaN      healthy         NaN               NaN   \n",
       "\n",
       "  primary_site                 species tissue_source_site_code  \\\n",
       "0  whole blood  Canis lupus familiaris             whole blood   \n",
       "1  whole blood  Canis lupus familiaris             whole blood   \n",
       "2  whole blood  Canis lupus familiaris             whole blood   \n",
       "3  whole blood  Canis lupus familiaris             whole blood   \n",
       "4  whole blood  Canis lupus familiaris             whole blood   \n",
       "\n",
       "                             studies.id studies.submitter_id  \n",
       "0  4a175584-5fbb-11e9-8647-d663bd873d93             GSE90441  \n",
       "1  4a175584-5fbb-11e9-8647-d663bd873d93             GSE90441  \n",
       "2  4a175584-5fbb-11e9-8647-d663bd873d93             GSE90441  \n",
       "3  4a175584-5fbb-11e9-8647-d663bd873d93             GSE90441  \n",
       "4  4a175584-5fbb-11e9-8647-d663bd873d93             GSE90441  "
      ]
     },
     "execution_count": 23,
     "metadata": {},
     "output_type": "execute_result"
    }
   ],
   "source": [
    "# Load the downloaded subject tsv file to the Pandas dataframe with regex delimiter '\\t'.\n",
    "subject = pd.read_csv(\"subject.tsv\", sep='\\t', header=0)\n",
    "\n",
    "# As \"subject\" is now the dataframe, we can run Pandas functions on it by adding a \".function\" \n",
    "\n",
    "# Return the first 5 rows of the dataframe \"subject\"\n",
    "subject.head()\n",
    "\n",
    "# Commands to show dataframe shape and info:\n",
    "# 1. Return info of the dataframe using: $ subject.info\n",
    "# 2. Return the format of the dataframe in (rows, columns) using: $ subject.shape"
   ]
  },
  {
   "cell_type": "code",
   "execution_count": 24,
   "metadata": {},
   "outputs": [
    {
     "name": "stdout",
     "output_type": "stream",
     "text": [
      "<class 'pandas.core.frame.DataFrame'>\n",
      "RangeIndex: 1090 entries, 0 to 1089\n",
      "Data columns (total 11 columns):\n",
      " #   Column                   Non-Null Count  Dtype \n",
      "---  ------                   --------------  ----- \n",
      " 0   type                     1090 non-null   object\n",
      " 1   id                       1090 non-null   object\n",
      " 2   project_id               1090 non-null   object\n",
      " 3   submitter_id             1090 non-null   object\n",
      " 4   breed                    1090 non-null   object\n",
      " 5   disease_type             1090 non-null   object\n",
      " 6   primary_site             1090 non-null   object\n",
      " 7   species                  1090 non-null   object\n",
      " 8   tissue_source_site_code  1090 non-null   object\n",
      " 9   studies.id               1090 non-null   object\n",
      " 10  studies.submitter_id     1090 non-null   object\n",
      "dtypes: object(11)\n",
      "memory usage: 93.8+ KB\n"
     ]
    }
   ],
   "source": [
    "# Dropping all columns that have NaN as values and replacing the previous dataframe\n",
    "subject_clean = subject.dropna(axis = 1, how = 'all')\n",
    "subject_clean.info()"
   ]
  },
  {
   "cell_type": "code",
   "execution_count": 25,
   "metadata": {
    "scrolled": true
   },
   "outputs": [
    {
     "data": {
      "text/plain": [
       "0       Canis lupus familiaris\n",
       "1       Canis lupus familiaris\n",
       "2       Canis lupus familiaris\n",
       "3       Canis lupus familiaris\n",
       "4       Canis lupus familiaris\n",
       "                 ...          \n",
       "1085    Canis lupus familiaris\n",
       "1086    Canis lupus familiaris\n",
       "1087    Canis lupus familiaris\n",
       "1088    Canis lupus familiaris\n",
       "1089    Canis lupus familiaris\n",
       "Name: species, Length: 1090, dtype: object"
      ]
     },
     "execution_count": 25,
     "metadata": {},
     "output_type": "execute_result"
    }
   ],
   "source": [
    "# Return only one column from dataframe \"subject\". Here we show two options to do this.\n",
    "# Option 1: call the name of the column in the dataframe\n",
    "subject_clean['species']  "
   ]
  },
  {
   "cell_type": "code",
   "execution_count": 26,
   "metadata": {},
   "outputs": [
    {
     "data": {
      "text/plain": [
       "0       Canis lupus familiaris\n",
       "1       Canis lupus familiaris\n",
       "2       Canis lupus familiaris\n",
       "3       Canis lupus familiaris\n",
       "4       Canis lupus familiaris\n",
       "                 ...          \n",
       "1085    Canis lupus familiaris\n",
       "1086    Canis lupus familiaris\n",
       "1087    Canis lupus familiaris\n",
       "1088    Canis lupus familiaris\n",
       "1089    Canis lupus familiaris\n",
       "Name: species, Length: 1090, dtype: object"
      ]
     },
     "execution_count": 26,
     "metadata": {},
     "output_type": "execute_result"
    }
   ],
   "source": [
    "# Option 2: use the function \"iloc\"\n",
    "subject_clean.iloc[:, 7]"
   ]
  },
  {
   "cell_type": "code",
   "execution_count": 27,
   "metadata": {},
   "outputs": [
    {
     "data": {
      "text/html": [
       "<div>\n",
       "<style scoped>\n",
       "    .dataframe tbody tr th:only-of-type {\n",
       "        vertical-align: middle;\n",
       "    }\n",
       "\n",
       "    .dataframe tbody tr th {\n",
       "        vertical-align: top;\n",
       "    }\n",
       "\n",
       "    .dataframe thead th {\n",
       "        text-align: right;\n",
       "    }\n",
       "</style>\n",
       "<table border=\"1\" class=\"dataframe\">\n",
       "  <thead>\n",
       "    <tr style=\"text-align: right;\">\n",
       "      <th></th>\n",
       "      <th>submitter_id</th>\n",
       "      <th>breed</th>\n",
       "      <th>disease_type</th>\n",
       "      <th>primary_site</th>\n",
       "      <th>species</th>\n",
       "      <th>tissue_source_site_code</th>\n",
       "    </tr>\n",
       "  </thead>\n",
       "  <tbody>\n",
       "    <tr>\n",
       "      <th>0</th>\n",
       "      <td>1a608300-5fc1-11e9-8647-d663bd873d93</td>\n",
       "      <td>Norwich Terrier</td>\n",
       "      <td>healthy</td>\n",
       "      <td>whole blood</td>\n",
       "      <td>Canis lupus familiaris</td>\n",
       "      <td>whole blood</td>\n",
       "    </tr>\n",
       "    <tr>\n",
       "      <th>1</th>\n",
       "      <td>1a60844a-5fc1-11e9-8647-d663bd873d93</td>\n",
       "      <td>Old English Sheepdog</td>\n",
       "      <td>healthy</td>\n",
       "      <td>whole blood</td>\n",
       "      <td>Canis lupus familiaris</td>\n",
       "      <td>whole blood</td>\n",
       "    </tr>\n",
       "    <tr>\n",
       "      <th>2</th>\n",
       "      <td>1a608580-5fc1-11e9-8647-d663bd873d93</td>\n",
       "      <td>Old English Sheepdog</td>\n",
       "      <td>healthy</td>\n",
       "      <td>whole blood</td>\n",
       "      <td>Canis lupus familiaris</td>\n",
       "      <td>whole blood</td>\n",
       "    </tr>\n",
       "    <tr>\n",
       "      <th>3</th>\n",
       "      <td>1a6086b6-5fc1-11e9-8647-d663bd873d93</td>\n",
       "      <td>Old English Sheepdog</td>\n",
       "      <td>healthy</td>\n",
       "      <td>whole blood</td>\n",
       "      <td>Canis lupus familiaris</td>\n",
       "      <td>whole blood</td>\n",
       "    </tr>\n",
       "    <tr>\n",
       "      <th>4</th>\n",
       "      <td>1a6087f6-5fc1-11e9-8647-d663bd873d93</td>\n",
       "      <td>Old English Sheepdog</td>\n",
       "      <td>healthy</td>\n",
       "      <td>whole blood</td>\n",
       "      <td>Canis lupus familiaris</td>\n",
       "      <td>whole blood</td>\n",
       "    </tr>\n",
       "  </tbody>\n",
       "</table>\n",
       "</div>"
      ],
      "text/plain": [
       "                           submitter_id                 breed disease_type  \\\n",
       "0  1a608300-5fc1-11e9-8647-d663bd873d93       Norwich Terrier      healthy   \n",
       "1  1a60844a-5fc1-11e9-8647-d663bd873d93  Old English Sheepdog      healthy   \n",
       "2  1a608580-5fc1-11e9-8647-d663bd873d93  Old English Sheepdog      healthy   \n",
       "3  1a6086b6-5fc1-11e9-8647-d663bd873d93  Old English Sheepdog      healthy   \n",
       "4  1a6087f6-5fc1-11e9-8647-d663bd873d93  Old English Sheepdog      healthy   \n",
       "\n",
       "  primary_site                 species tissue_source_site_code  \n",
       "0  whole blood  Canis lupus familiaris             whole blood  \n",
       "1  whole blood  Canis lupus familiaris             whole blood  \n",
       "2  whole blood  Canis lupus familiaris             whole blood  \n",
       "3  whole blood  Canis lupus familiaris             whole blood  \n",
       "4  whole blood  Canis lupus familiaris             whole blood  "
      ]
     },
     "execution_count": 27,
     "metadata": {},
     "output_type": "execute_result"
    }
   ],
   "source": [
    "# Removing columns not necessary for data analysis with the function \"drop\"\n",
    "subject_clean_slim = subject_clean.drop(columns=['type', 'id', 'project_id', 'studies.id', 'studies.submitter_id'])\n",
    "subject_clean_slim.head()"
   ]
  },
  {
   "cell_type": "code",
   "execution_count": 28,
   "metadata": {},
   "outputs": [
    {
     "name": "stdout",
     "output_type": "stream",
     "text": [
      "Saluki                                 29\n",
      "Standard Schnauzer                     17\n",
      "Italian Greyhound                      17\n",
      "Saint Bernard                          17\n",
      "Great Pyrenees                         13\n",
      "                                       ..\n",
      "Maltese                                 2\n",
      "American Staffordshire Bull Terrier     2\n",
      "Dingo                                   1\n",
      "Unknown                                 1\n",
      "Norwegian Elkhound                      1\n",
      "Name: breed, Length: 132, dtype: int64\n"
     ]
    }
   ],
   "source": [
    "# We can count the occurrences of different breeds using three options.\n",
    "# Option 1: Use the function \"value_counts\"\n",
    "subject_clean_slim_breeds = subject_clean_slim.breed.value_counts()\n",
    "print(subject_clean_slim_breeds)"
   ]
  },
  {
   "cell_type": "code",
   "execution_count": 30,
   "metadata": {},
   "outputs": [
    {
     "data": {
      "text/plain": [
       "breed\n",
       "Saluki                29\n",
       "Saint Bernard         17\n",
       "Italian Greyhound     17\n",
       "Standard Schnauzer    17\n",
       "Great Pyrenees        13\n",
       "                      ..\n",
       "Parson Russell         2\n",
       "Puli                   2\n",
       "Unknown                1\n",
       "Dingo                  1\n",
       "Norwegian Elkhound     1\n",
       "Length: 132, dtype: int64"
      ]
     },
     "execution_count": 30,
     "metadata": {},
     "output_type": "execute_result"
    }
   ],
   "source": [
    "# Option 2: Use the function \"groupby\" and let Pandas show the counts in ascending size order using \"sort_values\": \n",
    "subject_clean_slim.groupby('breed').size().sort_values(ascending=False)"
   ]
  },
  {
   "cell_type": "code",
   "execution_count": 63,
   "metadata": {},
   "outputs": [
    {
     "data": {
      "image/png": "[encoded data removed]",
      "text/plain": [
       "<Figure size 432x288 with 1 Axes>"
      ]
     },
     "metadata": {
      "needs_background": "light"
     },
     "output_type": "display_data"
    }
   ],
   "source": [
    "# We can directly plot the top entries using matplotlib.pyplot as plt (defined in the beginning)\n",
    "subject_clean_slim.groupby('breed').size().sort_values(ascending=False).plot(kind='bar')\n",
    "plt.ylabel('n')\n",
    "plt.title('Breeds')\n",
    "plt.xlim(-1, 17.5) # setting the limits to the first 18 entries (instead of the full 132)\n",
    "plt.show()"
   ]
  },
  {
   "cell_type": "code",
   "execution_count": 32,
   "metadata": {},
   "outputs": [
    {
     "name": "stdout",
     "output_type": "stream",
     "text": [
      "breed\n",
      "Afghan Hound                   10\n",
      "Airedale Terrier                3\n",
      "Akita                          10\n",
      "Alaskan Malamute               10\n",
      "American Cocker Spaniel        10\n",
      "                               ..\n",
      "Whippet                        10\n",
      "Wirehaired Pointing Griffon     6\n",
      "Wolf                            7\n",
      "Xigou                           5\n",
      "Yorkshire Terrier              10\n",
      "Length: 132, dtype: int64\n"
     ]
    },
    {
     "data": {
      "text/html": [
       "<div>\n",
       "<style scoped>\n",
       "    .dataframe tbody tr th:only-of-type {\n",
       "        vertical-align: middle;\n",
       "    }\n",
       "\n",
       "    .dataframe tbody tr th {\n",
       "        vertical-align: top;\n",
       "    }\n",
       "\n",
       "    .dataframe thead th {\n",
       "        text-align: right;\n",
       "    }\n",
       "</style>\n",
       "<table border=\"1\" class=\"dataframe\">\n",
       "  <thead>\n",
       "    <tr style=\"text-align: right;\">\n",
       "      <th></th>\n",
       "      <th>breed</th>\n",
       "      <th>counts</th>\n",
       "    </tr>\n",
       "  </thead>\n",
       "  <tbody>\n",
       "    <tr>\n",
       "      <th>0</th>\n",
       "      <td>Afghan Hound</td>\n",
       "      <td>10</td>\n",
       "    </tr>\n",
       "    <tr>\n",
       "      <th>1</th>\n",
       "      <td>Airedale Terrier</td>\n",
       "      <td>3</td>\n",
       "    </tr>\n",
       "    <tr>\n",
       "      <th>2</th>\n",
       "      <td>Akita</td>\n",
       "      <td>10</td>\n",
       "    </tr>\n",
       "    <tr>\n",
       "      <th>3</th>\n",
       "      <td>Alaskan Malamute</td>\n",
       "      <td>10</td>\n",
       "    </tr>\n",
       "    <tr>\n",
       "      <th>4</th>\n",
       "      <td>American Cocker Spaniel</td>\n",
       "      <td>10</td>\n",
       "    </tr>\n",
       "    <tr>\n",
       "      <th>5</th>\n",
       "      <td>American Hairless Terrier</td>\n",
       "      <td>10</td>\n",
       "    </tr>\n",
       "    <tr>\n",
       "      <th>6</th>\n",
       "      <td>American Staffordshire Bull Terrier</td>\n",
       "      <td>2</td>\n",
       "    </tr>\n",
       "    <tr>\n",
       "      <th>7</th>\n",
       "      <td>Anatolian Shepherd</td>\n",
       "      <td>6</td>\n",
       "    </tr>\n",
       "    <tr>\n",
       "      <th>8</th>\n",
       "      <td>Australian Cattle Dog</td>\n",
       "      <td>2</td>\n",
       "    </tr>\n",
       "    <tr>\n",
       "      <th>9</th>\n",
       "      <td>Australian Kelpie</td>\n",
       "      <td>2</td>\n",
       "    </tr>\n",
       "  </tbody>\n",
       "</table>\n",
       "</div>"
      ],
      "text/plain": [
       "                                 breed  counts\n",
       "0                         Afghan Hound      10\n",
       "1                     Airedale Terrier       3\n",
       "2                                Akita      10\n",
       "3                     Alaskan Malamute      10\n",
       "4              American Cocker Spaniel      10\n",
       "5            American Hairless Terrier      10\n",
       "6  American Staffordshire Bull Terrier       2\n",
       "7                   Anatolian Shepherd       6\n",
       "8                Australian Cattle Dog       2\n",
       "9                    Australian Kelpie       2"
      ]
     },
     "execution_count": 32,
     "metadata": {},
     "output_type": "execute_result"
    }
   ],
   "source": [
    "# Option 3: We can also show the top entries with the function pivot_table and save it as a new file \n",
    "countsbreed=subject_clean_slim.pivot_table(index=['breed'], aggfunc='size')\n",
    "print(countsbreed)\n",
    "countsbreed.shape\n",
    "\n",
    "# Save the file to csv\n",
    "countsbreed.to_csv('countsbreed.csv')\n",
    "\n",
    "# Loading the saved file\n",
    "counts_breed = pd.read_csv(\"countsbreed.csv\", header=0)\n",
    "\n",
    "# Renaming the column names with the function \"columns\" \n",
    "counts_breed.columns = ['breed', 'counts'] \n",
    "counts_breed.head(10) # shows the first 10 rows"
   ]
  },
  {
   "cell_type": "code",
   "execution_count": 35,
   "metadata": {},
   "outputs": [
    {
     "data": {
      "image/png": "[encoded data removed]",
      "text/plain": [
       "<Figure size 432x288 with 1 Axes>"
      ]
     },
     "metadata": {},
     "output_type": "display_data"
    }
   ],
   "source": [
    "# Create pie chart of breeds showing only top 13 entries\n",
    "top13 = counts_breed[counts_breed.counts > 9].nlargest(13, 'counts') # top 13 entries with counts > 9\n",
    "data = top13['counts']\n",
    "categories = top13[\"breed\"]\n",
    "\n",
    "fig1, ax1 = plt.subplots()\n",
    "ax1.pie(data, labels=categories, autopct='%1.1f%%',\n",
    "        shadow=True, startangle=90)\n",
    "ax1.axis('equal')  # Equal aspect ratio ensures that pie is drawn as a circle.\n",
    "\n",
    "plt.show()\n",
    "\n"
   ]
  },
  {
   "cell_type": "code",
   "execution_count": 105,
   "metadata": {},
   "outputs": [
    {
     "data": {
      "image/png": "[encoded data removed]",
      "text/plain": [
       "<Figure size 720x720 with 1 Axes>"
      ]
     },
     "metadata": {},
     "output_type": "display_data"
    }
   ],
   "source": [
    "# We want to show the breeds that have above 9 counts and store all other breeds as \"Other\"\n",
    "# First, we set limits for the counts and separate into two bins (those below 9 counts and those above).\n",
    "# The first row keeps the count above 9 as the original \"breed\" and change the counts below 9 to \"Other\"\n",
    "counts_breed[\"new_breed\"] = np.where(counts_breed[\"counts\"] >9, counts_breed['breed'], 'Other')\n",
    "\n",
    "# Using the groupby function from before, we can again count the amount of entries of each breed\n",
    "count_table = counts_breed.groupby('new_breed').sum() # count_table has now only one column\n",
    "count_table = count_table.reset_index() # this command resets the index of the table\n",
    "\n",
    "# Return a pie chart of the results\n",
    "top14 = count_table[count_table.counts > 9].nlargest(10, 'counts') # show only the top 10 and others\n",
    "data = top14[\"counts\"]\n",
    "categories = top14[\"new_breed\"]\n",
    "fig1, ax1 = plt.subplots()\n",
    "ax1.pie(data, labels=categories, autopct='%1.1f%%',\n",
    "        shadow=True, startangle=90)\n",
    "ax1.axis('equal')  # Equal aspect ratio ensures that pie is drawn as a circle.\n",
    "\n",
    "fig1.set_size_inches(10, 10) # Adjust figure size \n",
    "mpl.rcParams['font.size'] = 11.5 # Adjust font size\n",
    "\n",
    "\n",
    "plt.show()\n"
   ]
  },
  {
   "cell_type": "code",
   "execution_count": 98,
   "metadata": {},
   "outputs": [
    {
     "data": {
      "text/plain": [
       "<Figure size 432x288 with 0 Axes>"
      ]
     },
     "metadata": {},
     "output_type": "display_data"
    }
   ],
   "source": [
    "# Save the figure above\n",
    "fig1.savefig('plot.png')"
   ]
  },
  {
   "cell_type": "markdown",
   "metadata": {},
   "source": [
    "End of notebook."
   ]
  }
 ],
 "metadata": {
  "kernelspec": {
   "display_name": "Python 3",
   "language": "python",
   "name": "python3"
  },
  "language_info": {
   "codemirror_mode": {
    "name": "ipython",
    "version": 3
   },
   "file_extension": ".py",
   "mimetype": "text/x-python",
   "name": "python",
   "nbconvert_exporter": "python",
   "pygments_lexer": "ipython3",
   "version": "3.8.3"
  }
 },
 "nbformat": 4,
 "nbformat_minor": 4
}
